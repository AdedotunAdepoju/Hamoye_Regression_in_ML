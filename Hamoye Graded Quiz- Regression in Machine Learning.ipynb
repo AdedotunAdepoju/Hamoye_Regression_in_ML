{
 "cells": [
  {
   "cell_type": "code",
   "execution_count": 1,
   "id": "baf1916f",
   "metadata": {},
   "outputs": [
    {
     "name": "stdout",
     "output_type": "stream",
     "text": [
      "RMSE for the linear model: 3.644\n"
     ]
    }
   ],
   "source": [
    "import pandas as pd\n",
    "from sklearn.linear_model import LinearRegression\n",
    "from sklearn.metrics import mean_squared_error\n",
    "import numpy as np\n",
    "\n",
    "# Load the dataset\n",
    "data = pd.read_csv('energydata_complete.csv')\n",
    "\n",
    "# Fit a linear model to predict T6 from T2\n",
    "X = data[['T2']]\n",
    "y = data['T6']\n",
    "lm = LinearRegression()\n",
    "lm.fit(X, y)\n",
    "\n",
    "# Calculate the Root Mean Squared Error (RMSE) for the linear model\n",
    "y_pred = lm.predict(X)\n",
    "rmse = np.sqrt(mean_squared_error(y, y_pred))\n",
    "print(f\"RMSE for the linear model: {rmse:.3f}\")\n"
   ]
  },
  {
   "cell_type": "code",
   "execution_count": 2,
   "id": "97f20403",
   "metadata": {},
   "outputs": [
    {
     "name": "stdout",
     "output_type": "stream",
     "text": [
      "Mean Absolute Error (MAE) for the training set: 53.742\n",
      "Root Mean Squared Error (RMSE) for the training set: 95.216\n",
      "Mean Absolute Error (MAE) for the test set: 53.643\n",
      "Root Mean Squared Error (RMSE) for the test set: 93.640\n",
      "Did the model overfit to the training set? No\n",
      "RMSE with Ridge Regression on the test set: 93.709\n",
      "RMSE with Lasso Regression on the test set: 99.424\n",
      "Number of features with non-zero weights in Lasso Regression: 4\n"
     ]
    }
   ],
   "source": [
    "from sklearn.model_selection import train_test_split\n",
    "from sklearn.preprocessing import MinMaxScaler\n",
    "from sklearn.linear_model import LinearRegression, Ridge, Lasso\n",
    "from sklearn.metrics import mean_absolute_error, mean_squared_error\n",
    "import numpy as np\n",
    "\n",
    "# Remove date and lights columns\n",
    "data.drop(['date', 'lights'], axis=1, inplace=True)\n",
    "\n",
    "# Define features and target variable\n",
    "X = data.drop('Appliances', axis=1)\n",
    "y = data['Appliances']\n",
    "\n",
    "# Split the data into training and test sets\n",
    "X_train, X_test, y_train, y_test = train_test_split(X, y, test_size=0.3, random_state=42)\n",
    "\n",
    "# Normalize the dataset using MinMaxScaler\n",
    "scaler = MinMaxScaler()\n",
    "X_train_norm = scaler.fit_transform(X_train)\n",
    "X_test_norm = scaler.transform(X_test)\n",
    "\n",
    "# Train a multiple linear regression model\n",
    "lm = LinearRegression()\n",
    "lm.fit(X_train_norm, y_train)\n",
    "\n",
    "# Predictions on the training set\n",
    "y_train_pred = lm.predict(X_train_norm)\n",
    "\n",
    "# Calculate Mean Absolute Error (MAE) for the training set\n",
    "mae_train = mean_absolute_error(y_train, y_train_pred)\n",
    "print(f\"Mean Absolute Error (MAE) for the training set: {mae_train:.3f}\")\n",
    "\n",
    "# Calculate Root Mean Squared Error (RMSE) for the training set\n",
    "rmse_train = np.sqrt(mean_squared_error(y_train, y_train_pred))\n",
    "print(f\"Root Mean Squared Error (RMSE) for the training set: {rmse_train:.3f}\")\n",
    "\n",
    "# Predictions on the test set\n",
    "y_test_pred = lm.predict(X_test_norm)\n",
    "\n",
    "# Calculate Mean Absolute Error (MAE) for the test set\n",
    "mae_test = mean_absolute_error(y_test, y_test_pred)\n",
    "print(f\"Mean Absolute Error (MAE) for the test set: {mae_test:.3f}\")\n",
    "\n",
    "# Calculate Root Mean Squared Error (RMSE) for the test set\n",
    "rmse_test = np.sqrt(mean_squared_error(y_test, y_test_pred))\n",
    "print(f\"Root Mean Squared Error (RMSE) for the test set: {rmse_test:.3f}\")\n",
    "\n",
    "# Check for overfitting\n",
    "overfitting = \"Yes\" if rmse_train < rmse_test else \"No\"\n",
    "print(f\"Did the model overfit to the training set? {overfitting}\")\n",
    "\n",
    "# Train a Ridge regression model\n",
    "ridge = Ridge()\n",
    "ridge.fit(X_train_norm, y_train)\n",
    "\n",
    "# Evaluate Ridge model on the test set\n",
    "ridge_rmse_test = np.sqrt(mean_squared_error(y_test, ridge.predict(X_test_norm)))\n",
    "print(f\"RMSE with Ridge Regression on the test set: {ridge_rmse_test:.3f}\")\n",
    "\n",
    "# Train a Lasso regression model\n",
    "lasso = Lasso()\n",
    "lasso.fit(X_train_norm, y_train)\n",
    "\n",
    "# Evaluate Lasso model on the test set\n",
    "lasso_rmse_test = np.sqrt(mean_squared_error(y_test, lasso.predict(X_test_norm)))\n",
    "print(f\"RMSE with Lasso Regression on the test set: {lasso_rmse_test:.3f}\")\n",
    "\n",
    "# Number of features with non-zero weights in Lasso regression\n",
    "non_zero_features = np.sum(lasso.coef_ != 0)\n",
    "print(f\"Number of features with non-zero weights in Lasso Regression: {non_zero_features}\")\n"
   ]
  },
  {
   "cell_type": "code",
   "execution_count": 3,
   "id": "21b59d8e",
   "metadata": {},
   "outputs": [
    {
     "name": "stdout",
     "output_type": "stream",
     "text": [
      "RMSE with Ridge Regression on the test set: 93.709\n",
      "RMSE of multiple linear regression on the test set: 93.640\n"
     ]
    }
   ],
   "source": [
    "\n",
    "# Train a Ridge regression model with default parameters\n",
    "ridge = Ridge()\n",
    "ridge.fit(X_train_norm, y_train)\n",
    "\n",
    "# Predictions on the test set\n",
    "y_test_pred_ridge = ridge.predict(X_test_norm)\n",
    "\n",
    "# Calculate Root Mean Squared Error (RMSE) for the test set with Ridge regression\n",
    "rmse_test_ridge = np.sqrt(mean_squared_error(y_test, y_test_pred_ridge))\n",
    "print(f\"RMSE with Ridge Regression on the test set: {rmse_test_ridge:.3f}\")\n",
    "\n",
    "# Compare with RMSE of multiple linear regression\n",
    "print(f\"RMSE of multiple linear regression on the test set: {rmse_test:.3f}\")\n"
   ]
  },
  {
   "cell_type": "code",
   "execution_count": null,
   "id": "96f07751",
   "metadata": {},
   "outputs": [],
   "source": []
  }
 ],
 "metadata": {
  "kernelspec": {
   "display_name": "Python 3 (ipykernel)",
   "language": "python",
   "name": "python3"
  },
  "language_info": {
   "codemirror_mode": {
    "name": "ipython",
    "version": 3
   },
   "file_extension": ".py",
   "mimetype": "text/x-python",
   "name": "python",
   "nbconvert_exporter": "python",
   "pygments_lexer": "ipython3",
   "version": "3.11.5"
  }
 },
 "nbformat": 4,
 "nbformat_minor": 5
}
